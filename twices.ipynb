{
 "cells": [
  {
   "cell_type": "code",
   "execution_count": 1,
   "metadata": {},
   "outputs": [],
   "source": [
    "import math"
   ]
  },
  {
   "cell_type": "code",
   "execution_count": 2,
   "metadata": {},
   "outputs": [],
   "source": [
    "def millerrabinv(n,a):\n",
    "    e=0\n",
    "    q = n-1\n",
    "    c=0\n",
    "    m = n-1\n",
    "    if gcd(a,n) == 1:\n",
    "        c += 1\n",
    "    if power_mod(a,m,n) == 1:\n",
    "        c += 1\n",
    "    while q % 2 == 0:\n",
    "        e += 1\n",
    "        q = q/2\n",
    "        q = Integer(q)\n",
    "    if power_mod(a,q,n) == 1:\n",
    "        c += 1\n",
    "    for i in range(e):\n",
    "        if power_mod(a,q*2**i,n) == n-1:\n",
    "            c += 1\n",
    "    return c"
   ]
  },
  {
   "cell_type": "code",
   "execution_count": 3,
   "metadata": {},
   "outputs": [],
   "source": [
    "def find_twices(a, b):\n",
    "    a = int((a + 29) / 30) * 30\n",
    "    if a == 0:\n",
    "        print(3, 'and', 5)\n",
    "        print(5, 'and', 7)\n",
    "    for i in range(a, b - 17, 30):\n",
    "        if i != 0 and millerrabinv(i + 1, 9) == 3 and millerrabinv(i - 1, 9) == 3 and is_prime(i + 1) and is_prime(i - 1):\n",
    "            print(i - 1, 'and', i + 1)\n",
    "        if millerrabinv(i + 13, 9) == 3 and millerrabinv(i + 11, 9) == 3 and is_prime(i + 13) and is_prime(i + 11):\n",
    "            print(i + 11, 'and', i + 13)\n",
    "        if millerrabinv(i + 17, 9) == 3 and millerrabinv(i + 19, 9) == 3 and is_prime(i + 17) and is_prime(i + 19):\n",
    "            print(i + 17, 'and', i + 19)\n",
    "    "
   ]
  },
  {
   "cell_type": "code",
   "execution_count": 4,
   "metadata": {},
   "outputs": [
    {
     "name": "stdout",
     "output_type": "stream",
     "text": [
      "3 and 5\n",
      "5 and 7\n",
      "11 and 13\n",
      "17 and 19\n",
      "29 and 31\n",
      "41 and 43\n",
      "59 and 61\n",
      "71 and 73\n"
     ]
    }
   ],
   "source": [
    "find_twices(0, 100)\n"
   ]
  },
  {
   "cell_type": "code",
   "execution_count": 5,
   "metadata": {},
   "outputs": [
    {
     "name": "stdout",
     "output_type": "stream",
     "text": [
      "18446744073709552421 and 18446744073709552423\n"
     ]
    }
   ],
   "source": [
    "find_twices(18446744073709551616,18446744073709552616)"
   ]
  }
 ],
 "metadata": {
  "kernelspec": {
   "display_name": "SageMath 9.2",
   "language": "sage",
   "name": "sagemath"
  },
  "language_info": {
   "codemirror_mode": {
    "name": "ipython",
    "version": 3
   },
   "file_extension": ".py",
   "mimetype": "text/x-python",
   "name": "python",
   "nbconvert_exporter": "python",
   "pygments_lexer": "ipython3",
   "version": "3.7.7"
  }
 },
 "nbformat": 4,
 "nbformat_minor": 4
}
